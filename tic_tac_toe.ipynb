{
 "cells": [
  {
   "cell_type": "code",
   "execution_count": null,
   "metadata": {},
   "outputs": [
    {
     "name": "stdout",
     "output_type": "stream",
     "text": [
      " | | \n",
      "-+-+-\n",
      " | | \n",
      "-+-+-\n",
      " | | \n",
      "turn for x move on which space(1-9)?\n"
     ]
    }
   ],
   "source": [
    "board={1:' ',2:' ',3:' ',4:' ',5:' ',6:' ',7:' ',8:' ',9:' '}\n",
    "def print_board(board):\n",
    "    print(board[1]+\"|\"+board[2]+\"|\"+board[3])\n",
    "    print(\"-+-+-\")\n",
    "    print(board[4]+\"|\"+board[5]+\"|\"+board[6])\n",
    "    print(\"-+-+-\")\n",
    "    print(board[7]+\"|\"+board[8]+\"|\"+board[9])\n",
    "print_board(board)\n",
    "turn='x'\n",
    "for i in range(9):\n",
    "    print(\"turn for \"+turn+\" move on which space(1-9)?\")\n",
    "    space=eval(input())\n",
    "    board[space]=turn\n",
    "    print_board(board)\n",
    "    if(board[1]==turn and board[2]==turn and board[3]==turn):\n",
    "        print(turn+' won!')\n",
    "        break\n",
    "    elif(board[4]==turn and board[5]==turn and board[6]==turn):\n",
    "        print(turn+' won!')\n",
    "        break\n",
    "    elif(board[7]==turn and board[8]==turn and board[9]==turn):\n",
    "        print(turn+' won!')\n",
    "        break\n",
    "    elif(board[1]==turn and board[4]==turn and board[7]==turn):\n",
    "        print(turn+' won!')\n",
    "        break\n",
    "    elif(board[2]==turn and board[5]==turn and board[8]==turn):\n",
    "        print(turn+' won!')\n",
    "        break\n",
    "    elif(board[3]==turn and board[6]==turn and board[9]==turn):\n",
    "        print(turn+' won!')\n",
    "        break\n",
    "    elif(board[1]==turn and board[5]==turn and board[9]==turn):\n",
    "        print(turn+' won!')\n",
    "        break\n",
    "    elif(board[3]==turn and board[5]==turn and board[7]==turn):\n",
    "        print(turn+' won!')\n",
    "        break    \n",
    "    if turn=='x':\n",
    "        turn='o'\n",
    "    else:\n",
    "        turn='x'\n",
    "    "
   ]
  },
  {
   "cell_type": "markdown",
   "metadata": {},
   "source": [
    "###### "
   ]
  }
 ],
 "metadata": {
  "kernelspec": {
   "display_name": "Python 3",
   "language": "python",
   "name": "python3"
  },
  "language_info": {
   "codemirror_mode": {
    "name": "ipython",
    "version": 3
   },
   "file_extension": ".py",
   "mimetype": "text/x-python",
   "name": "python",
   "nbconvert_exporter": "python",
   "pygments_lexer": "ipython3",
   "version": "3.9.0"
  }
 },
 "nbformat": 4,
 "nbformat_minor": 4
}
